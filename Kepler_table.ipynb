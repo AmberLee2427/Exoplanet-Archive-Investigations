{
 "cells": [
  {
   "cell_type": "code",
   "execution_count": 1,
   "metadata": {},
   "outputs": [],
   "source": [
    "import matplotlib.pyplot as plt\n",
    "import numpy as np\n"
   ]
  },
  {
   "cell_type": "code",
   "execution_count": 2,
   "metadata": {},
   "outputs": [],
   "source": [
    "from astroquery.ipac.nexsci.nasa_exoplanet_archive import NasaExoplanetArchive\n",
    "from astropy.table import Table"
   ]
  },
  {
   "cell_type": "code",
   "execution_count": 77,
   "metadata": {},
   "outputs": [
    {
     "data": {
      "application/vnd.jupyter.widget-view+json": {
       "model_id": "0f0bfa4382174f579cf7cc0855da72b2",
       "version_major": 2,
       "version_minor": 0
      },
      "text/plain": [
       "Text(value='', description='Search:', placeholder='Search for hostname')"
      ]
     },
     "metadata": {},
     "output_type": "display_data"
    },
    {
     "data": {
      "application/vnd.jupyter.widget-view+json": {
       "model_id": "0bbaabd5019c473ab0378117b34a19a9",
       "version_major": 2,
       "version_minor": 0
      },
      "text/plain": [
       "DataGrid(auto_fit_params={'area': 'all', 'padding': 30, 'numCols': None}, corner_renderer=None, default_render…"
      ]
     },
     "metadata": {},
     "output_type": "display_data"
    }
   ],
   "source": [
    "from ipydatagrid import DataGrid\n",
    "import pandas as pd\n",
    "import ipywidgets as widgets\n",
    "from ipydatagrid import DataGrid, TextRenderer\n",
    "\n",
    "# Query the Kepler exoplanet data from the new 'ps' table\n",
    "kepler_data = NasaExoplanetArchive.query_criteria(table=\"pscomppars\", select=\"*\", where=\"disc_facility='Kepler'\")\n",
    "\n",
    "# Convert to an Astropy Table\n",
    "kepler_data = Table(kepler_data)\n",
    "\n",
    "kepler_table_df = pd.DataFrame(np.array(kepler_data))\n",
    "kepler_table = DataGrid(kepler_table_df, editable=False, layout={'height':'200px'})\n",
    "\n",
    "# Filter the DataFrame to include only the necessary columns\n",
    "filtered_kepler_table_df = kepler_table_df[['hostname', 'sy_pnum', 'pl_orbper', 'st_met', 'pl_name', 'gaia_id']]\n",
    "\n",
    "# Create a new DataGrid for the filtered table\n",
    "filtered_kepler_table = DataGrid(filtered_kepler_table_df, editable=False, layout={'height':'200px'})\n",
    "\n",
    "# Create a search box\n",
    "search_box = widgets.Text(\n",
    "    value='',\n",
    "    placeholder='Search for hostname',\n",
    "    description='Search:',\n",
    "    disabled=False\n",
    ")\n",
    "\n",
    "# Function to filter the DataFrame based on the search input\n",
    "def filter_table(change):\n",
    "    search_value = change['new']\n",
    "    if search_value:\n",
    "        df = filtered_kepler_table_df[filtered_kepler_table_df['hostname'].str.contains(search_value, case=False, na=True)]\n",
    "    else:\n",
    "        df = filtered_kepler_table_df\n",
    "    filtered_kepler_table.data = df\n",
    "\n",
    "# Attach the filter function to the search box\n",
    "search_box.observe(filter_table, names='value')\n",
    "\n",
    "# Display the search box and the new DataGrid\n",
    "display(search_box, filtered_kepler_table)\n"
   ]
  },
  {
   "cell_type": "code",
   "execution_count": 78,
   "metadata": {},
   "outputs": [
    {
     "data": {
      "application/vnd.jupyter.widget-view+json": {
       "model_id": "4d544e6f0b8645fc9dccc5f81f8d993b",
       "version_major": 2,
       "version_minor": 0
      },
      "text/plain": [
       "DataGrid(auto_fit_params={'area': 'all', 'padding': 30, 'numCols': None}, corner_renderer=None, default_render…"
      ]
     },
     "execution_count": 78,
     "metadata": {},
     "output_type": "execute_result"
    }
   ],
   "source": [
    "\n",
    "\n",
    "kepler_table"
   ]
  },
  {
   "cell_type": "code",
   "execution_count": 79,
   "metadata": {},
   "outputs": [],
   "source": [
    "def check_and_replace_st_met(df):\n",
    "    # Group by hostname\n",
    "    grouped = df.groupby('hostname')\n",
    "    \n",
    "    for name, group in grouped:\n",
    "        # Get unique st_met values, excluding NaNs\n",
    "        unique_met_values = group['st_met'].dropna().unique()\n",
    "        \n",
    "        if len(unique_met_values) > 1:\n",
    "            # Check if all values are within 0.01 of each other\n",
    "            if np.all(np.abs(unique_met_values - unique_met_values.mean()) <= 0.01):\n",
    "                # Average the values\n",
    "                avg_met_value = unique_met_values.mean()\n",
    "                df.loc[df['hostname'] == name, 'st_met'] = avg_met_value\n",
    "            else:\n",
    "                print(f\"Warning: Discrepancy in st_met values for {name}: {unique_met_values}\")\n",
    "        \n",
    "        # Replace NaNs with the first available st_met value\n",
    "        if len(unique_met_values) > 0:\n",
    "            df.loc[df['hostname'] == name, 'st_met'] = df.loc[df['hostname'] == name, 'st_met'].fillna(unique_met_values[0])\n",
    "    \n",
    "    return df\n",
    "\n",
    "# Filter out systems with one star that have more than one metallicity value\n",
    "def filter_discrepant_monostar_systems(df):\n",
    "    grouped = df.groupby('hostname')\n",
    "    to_remove = []\n",
    "    \n",
    "    for name, group in grouped:\n",
    "        if group['sy_snum'].iloc[0] == 1:  # Only consider monostar systems\n",
    "            unique_met_values = group['st_met'].dropna().unique()\n",
    "            if len(unique_met_values) > 1 and not np.all(np.abs(unique_met_values - unique_met_values.mean()) <= 0.01):\n",
    "                to_remove.append(name)\n",
    "    \n",
    "    return df[~df['hostname'].isin(to_remove)]\n"
   ]
  },
  {
   "cell_type": "markdown",
   "metadata": {},
   "source": [
    "I listened to David Rice's talk today and I am wondering if there is a connection between metalicity and gap complexity.\n"
   ]
  },
  {
   "cell_type": "code",
   "execution_count": 80,
   "metadata": {},
   "outputs": [
    {
     "name": "stdout",
     "output_type": "stream",
     "text": [
      "Warning: Discrepancy in st_met values for KIC 5437945: [ 0.06 -0.38]\n",
      "Warning: Discrepancy in st_met values for KIC 9663113: [ 0.144 -0.28 ]\n",
      "Warning: Discrepancy in st_met values for KOI-351: [-0.12   0.098]\n",
      "Warning: Discrepancy in st_met values for Kepler-1001: [-0.03 -0.16]\n",
      "Warning: Discrepancy in st_met values for Kepler-1038: [ 0.16 -0.04]\n",
      "Warning: Discrepancy in st_met values for Kepler-105: [-0.19 -0.22]\n",
      "Warning: Discrepancy in st_met values for Kepler-1052: [ 0.   -0.22]\n",
      "Warning: Discrepancy in st_met values for Kepler-1067: [0.03 0.16]\n",
      "Warning: Discrepancy in st_met values for Kepler-1073: [0.   0.16]\n",
      "Warning: Discrepancy in st_met values for Kepler-1090: [-0.04  0.18]\n",
      "Warning: Discrepancy in st_met values for Kepler-111: [0.28  0.237]\n",
      "Warning: Discrepancy in st_met values for Kepler-1126: [-0.26 -0.4 ]\n",
      "Warning: Discrepancy in st_met values for Kepler-1130: [ 0.1  -0.06]\n",
      "Warning: Discrepancy in st_met values for Kepler-1162: [-0.03  0.14]\n",
      "Warning: Discrepancy in st_met values for Kepler-1165: [-0.04  0.05]\n",
      "Warning: Discrepancy in st_met values for Kepler-1181: [0.03 0.07]\n",
      "Warning: Discrepancy in st_met values for Kepler-1266: [-0.07  0.14]\n",
      "Warning: Discrepancy in st_met values for Kepler-130: [ 0.02  -0.199]\n",
      "Warning: Discrepancy in st_met values for Kepler-1311: [0.04 0.09]\n",
      "Warning: Discrepancy in st_met values for Kepler-1312: [-0.02  0.02]\n",
      "Warning: Discrepancy in st_met values for Kepler-1315: [0.07 0.56]\n",
      "Warning: Discrepancy in st_met values for Kepler-132: [-0.216 -0.13 ]\n",
      "Warning: Discrepancy in st_met values for Kepler-1321: [ 0.21 -0.45]\n",
      "Warning: Discrepancy in st_met values for Kepler-1322: [-0.07 -0.3 ]\n",
      "Warning: Discrepancy in st_met values for Kepler-1468: [0.03 0.14]\n",
      "Warning: Discrepancy in st_met values for Kepler-1471: [ 0.16 -0.03]\n",
      "Warning: Discrepancy in st_met values for Kepler-148: [0.14 0.07]\n",
      "Warning: Discrepancy in st_met values for Kepler-1487: [0.4  0.04]\n",
      "Warning: Discrepancy in st_met values for Kepler-1488: [0.06 0.  ]\n",
      "Warning: Discrepancy in st_met values for Kepler-1491: [0.14 0.06]\n",
      "Warning: Discrepancy in st_met values for Kepler-1518: [-0.34  0.06]\n",
      "Warning: Discrepancy in st_met values for Kepler-1530: [0.03 0.2 ]\n",
      "Warning: Discrepancy in st_met values for Kepler-157: [-0.059 -0.01 ]\n",
      "Warning: Discrepancy in st_met values for Kepler-1600: [0.07 0.1 ]\n",
      "Warning: Discrepancy in st_met values for Kepler-1610: [-0.1  0.1]\n",
      "Warning: Discrepancy in st_met values for Kepler-164: [ 0.  -0.1]\n",
      "Warning: Discrepancy in st_met values for Kepler-1669: [-0.2  -0.23]\n",
      "Warning: Discrepancy in st_met values for Kepler-1693: [0.026 0.16 ]\n",
      "Warning: Discrepancy in st_met values for Kepler-176: [0.16 0.03]\n",
      "Warning: Discrepancy in st_met values for Kepler-186: [-0.28 -0.26]\n",
      "Warning: Discrepancy in st_met values for Kepler-19: [-0.13 -0.08]\n",
      "Warning: Discrepancy in st_met values for Kepler-191: [ 0.13 -0.05]\n",
      "Warning: Discrepancy in st_met values for Kepler-192: [0.357 0.13 ]\n",
      "Warning: Discrepancy in st_met values for Kepler-196: [-0.02 -0.06]\n",
      "Warning: Discrepancy in st_met values for Kepler-198: [0.04  0.114]\n",
      "Warning: Discrepancy in st_met values for Kepler-25: [0.01 0.11]\n",
      "Warning: Discrepancy in st_met values for Kepler-255: [0.339 0.02 ]\n",
      "Warning: Discrepancy in st_met values for Kepler-26: [-0.13 -0.05]\n",
      "Warning: Discrepancy in st_met values for Kepler-27: [0.41 0.21]\n",
      "Warning: Discrepancy in st_met values for Kepler-297: [-0.22 -0.1 ]\n",
      "Warning: Discrepancy in st_met values for Kepler-311: [-0.01 -0.1 ]\n",
      "Warning: Discrepancy in st_met values for Kepler-324: [0.08 0.03]\n",
      "Warning: Discrepancy in st_met values for Kepler-342: [ 0.12  -0.001]\n",
      "Warning: Discrepancy in st_met values for Kepler-352: [-0.07 -0.14]\n",
      "Warning: Discrepancy in st_met values for Kepler-37: [-0.36 -0.3 ]\n",
      "Warning: Discrepancy in st_met values for Kepler-381: [-0.202 -0.32 ]\n",
      "Warning: Discrepancy in st_met values for Kepler-385: [ 0.04 -0.08]\n",
      "Warning: Discrepancy in st_met values for Kepler-394: [ 0.02 -0.14]\n",
      "Warning: Discrepancy in st_met values for Kepler-398: [-0.06   0.053]\n",
      "Warning: Discrepancy in st_met values for Kepler-403: [0.079 0.16 ]\n",
      "Warning: Discrepancy in st_met values for Kepler-416: [0.126 0.06 ]\n",
      "Warning: Discrepancy in st_met values for Kepler-46: [0.41 0.37]\n",
      "Warning: Discrepancy in st_met values for Kepler-47: [-0.25  -0.043]\n",
      "Warning: Discrepancy in st_met values for Kepler-495: [-0.07  0.18]\n",
      "Warning: Discrepancy in st_met values for Kepler-501: [-0.03  0.14]\n",
      "Warning: Discrepancy in st_met values for Kepler-511: [ 0.01 -0.2 ]\n",
      "Warning: Discrepancy in st_met values for Kepler-529: [-0.16 -0.1 ]\n",
      "Warning: Discrepancy in st_met values for Kepler-534: [0.01 0.07]\n",
      "Warning: Discrepancy in st_met values for Kepler-549: [-0.03  0.16]\n",
      "Warning: Discrepancy in st_met values for Kepler-58: [ 0.09 -0.12]\n",
      "Warning: Discrepancy in st_met values for Kepler-589: [ 0.01 -0.02]\n",
      "Warning: Discrepancy in st_met values for Kepler-607: [ 0.02 -0.02]\n",
      "Warning: Discrepancy in st_met values for Kepler-619: [ 0.05 -0.18]\n",
      "Warning: Discrepancy in st_met values for Kepler-647: [-0.14  -0.415]\n",
      "Warning: Discrepancy in st_met values for Kepler-656: [ 0.46 -0.04]\n",
      "Warning: Discrepancy in st_met values for Kepler-716: [0.   0.18]\n",
      "Warning: Discrepancy in st_met values for Kepler-763: [0.01 0.18]\n",
      "Warning: Discrepancy in st_met values for Kepler-783: [-0.03  0.01]\n",
      "Warning: Discrepancy in st_met values for Kepler-784: [0.07 0.1 ]\n",
      "Warning: Discrepancy in st_met values for Kepler-799: [-0.07  0.14]\n",
      "Warning: Discrepancy in st_met values for Kepler-864: [0.36 0.04]\n",
      "Warning: Discrepancy in st_met values for Kepler-865: [-0.01 -0.24]\n",
      "Warning: Discrepancy in st_met values for Kepler-880: [0.03 0.  ]\n",
      "Warning: Discrepancy in st_met values for Kepler-896: [-0.1  -0.16]\n",
      "Warning: Discrepancy in st_met values for Kepler-9: [0.05 0.12]\n",
      "Warning: Discrepancy in st_met values for Kepler-913: [ 0.16 -0.52]\n",
      "Warning: Discrepancy in st_met values for Kepler-949: [0.01 0.08]\n",
      "Warning: Discrepancy in st_met values for Kepler-968: [ 0.13 -0.58]\n",
      "Warning: Discrepancy in st_met values for Kepler-975: [0.56 0.07]\n",
      "Number of rows: 540\n"
     ]
    },
    {
     "data": {
      "application/vnd.jupyter.widget-view+json": {
       "model_id": "59d9fb00fa48472a906deabe1479fa87",
       "version_major": 2,
       "version_minor": 0
      },
      "text/plain": [
       "DataGrid(auto_fit_params={'area': 'all', 'padding': 30, 'numCols': None}, column_widths={'pl_name': 150, 'host…"
      ]
     },
     "execution_count": 80,
     "metadata": {},
     "output_type": "execute_result"
    }
   ],
   "source": [
    "# Select relevant columns and filter for multiplicity between 3 and 8\n",
    "filtered_kepler_table_df = kepler_table_df[['pl_name', 'hostname', 'st_met', 'sy_pnum', 'sy_snum', 'pl_orbper']]\n",
    "# Apply the function to check and replace st_met values\n",
    "filtered_kepler_table_df = check_and_replace_st_met(filtered_kepler_table_df)\n",
    "filtered_kepler_table_df = filter_discrepant_monostar_systems(filtered_kepler_table_df)\n",
    "filtered_kepler_table_df = filtered_kepler_table_df.dropna(subset=['st_met'])\n",
    "filtered_kepler_table_df = filtered_kepler_table_df[(filtered_kepler_table_df['sy_pnum'] >= 3) & (filtered_kepler_table_df['sy_pnum'] <= 8)]\n",
    "\n",
    "# Split into different DataFrames based on the number of stars (sy_snum)\n",
    "monostar_systems_df = filtered_kepler_table_df[filtered_kepler_table_df['sy_snum'] == 1]\n",
    "duostar_systems_df = filtered_kepler_table_df[filtered_kepler_table_df['sy_snum'] == 2]\n",
    "tristar_systems_df = filtered_kepler_table_df[filtered_kepler_table_df['sy_snum'] == 3]\n",
    "\n",
    "# Create a DataGrid for the filtered table with custom column widths\n",
    "column_widths = {\n",
    "    'pl_name': 150,\n",
    "    'hostname': 150,\n",
    "    'st_met': 100,\n",
    "    'sy_pnum': 100,\n",
    "    'sy_snum': 100,\n",
    "    'pl_orbper': 100\n",
    "}\n",
    "\n",
    "# Create a DataGrid for the filtered table\n",
    "filtered_kepler_table_grid = DataGrid(filtered_kepler_table_df, editable=False, layout={'height':'200px'}, column_widths=column_widths)\n",
    "\n",
    "print(f\"Number of rows: {filtered_kepler_table_df.shape[0]}\")\n",
    "filtered_kepler_table_grid"
   ]
  },
  {
   "cell_type": "code",
   "execution_count": 81,
   "metadata": {},
   "outputs": [
    {
     "name": "stdout",
     "output_type": "stream",
     "text": [
      "Number of rows: 484\n"
     ]
    },
    {
     "data": {
      "application/vnd.jupyter.widget-view+json": {
       "model_id": "79ab02d00dd9498d9d87ac83564748bc",
       "version_major": 2,
       "version_minor": 0
      },
      "text/plain": [
       "DataGrid(auto_fit_params={'area': 'all', 'padding': 30, 'numCols': None}, column_widths={'pl_name': 150, 'host…"
      ]
     },
     "execution_count": 81,
     "metadata": {},
     "output_type": "execute_result"
    }
   ],
   "source": [
    "# Create a DataGrid for the filtered table\n",
    "monostar_systems_grid = DataGrid(monostar_systems_df, editable=False, layout={'height':'200px'}, column_widths=column_widths)\n",
    "print(f\"Number of rows: {monostar_systems_df.shape[0]}\")\n",
    "monostar_systems_grid"
   ]
  },
  {
   "cell_type": "code",
   "execution_count": 82,
   "metadata": {},
   "outputs": [
    {
     "name": "stdout",
     "output_type": "stream",
     "text": [
      "Number of rows: 51\n"
     ]
    },
    {
     "data": {
      "application/vnd.jupyter.widget-view+json": {
       "model_id": "25db162997db42e6b4ad46d23ab203b2",
       "version_major": 2,
       "version_minor": 0
      },
      "text/plain": [
       "DataGrid(auto_fit_params={'area': 'all', 'padding': 30, 'numCols': None}, column_widths={'pl_name': 150, 'host…"
      ]
     },
     "execution_count": 82,
     "metadata": {},
     "output_type": "execute_result"
    }
   ],
   "source": [
    "# Create a DataGrid for the filtered table\n",
    "duostar_systems_grid = DataGrid(duostar_systems_df, editable=False, layout={'height':'200px'}, column_widths=column_widths)\n",
    "print(f\"Number of rows: {duostar_systems_df.shape[0]}\")\n",
    "duostar_systems_grid"
   ]
  },
  {
   "cell_type": "code",
   "execution_count": 83,
   "metadata": {},
   "outputs": [
    {
     "name": "stdout",
     "output_type": "stream",
     "text": [
      "Number of rows: 5\n"
     ]
    },
    {
     "data": {
      "application/vnd.jupyter.widget-view+json": {
       "model_id": "1dd29503427640669433c206f192d593",
       "version_major": 2,
       "version_minor": 0
      },
      "text/plain": [
       "DataGrid(auto_fit_params={'area': 'all', 'padding': 30, 'numCols': None}, column_widths={'pl_name': 150, 'host…"
      ]
     },
     "execution_count": 83,
     "metadata": {},
     "output_type": "execute_result"
    }
   ],
   "source": [
    "# Create a DataGrid for the filtered table\n",
    "tristar_systems_grid = DataGrid(tristar_systems_df, editable=False, layout={'height':'200px'}, column_widths=column_widths)\n",
    "print(f\"Number of rows: {tristar_systems_df.shape[0]}\")\n",
    "tristar_systems_grid"
   ]
  },
  {
   "cell_type": "code",
   "execution_count": 84,
   "metadata": {},
   "outputs": [
    {
     "name": "stdout",
     "output_type": "stream",
     "text": [
      "\n",
      "142 Unique star names in 1 systems:\n",
      "['Kepler-276', 'Kepler-169', 'Kepler-11', 'Kepler-219', 'Kepler-10', 'Kepler-107', 'Kepler-32', 'KOI-142', 'Kepler-30', 'Kepler-129', 'Kepler-102', 'Kepler-334', 'Kepler-126', 'Kepler-166', 'Kepler-51', 'Kepler-106', 'Kepler-265', 'Kepler-80', 'Kepler-286', 'Kepler-279', 'Kepler-82', 'Kepler-247', 'Kepler-42', 'Kepler-325', 'Kepler-306', 'Kepler-299', 'Kepler-295', 'Kepler-84', 'Kepler-100', 'Kepler-221', 'Kepler-79', 'Kepler-446', 'Kepler-81', 'Kepler-31', 'Kepler-288', 'Kepler-401', 'Kepler-206', 'Kepler-298', 'Kepler-250', 'Kepler-154', 'Kepler-184', 'Kepler-235', 'Kepler-160', 'Kepler-150', 'Kepler-354', 'Kepler-207', 'Kepler-249', 'Kepler-55', 'Kepler-33', 'Kepler-450', 'Kepler-49', 'Kepler-305', 'Kepler-220', 'Kepler-62', 'Kepler-92', 'Kepler-149', 'Kepler-23', 'Kepler-56', 'Kepler-85', 'Kepler-289', 'Kepler-114', 'Kepler-1254', 'Kepler-142', 'Kepler-603', 'Kepler-24', 'Kepler-1542', 'Kepler-203', 'Kepler-127', 'Kepler-223', 'Kepler-208', 'Kepler-229', 'Kepler-758', 'Kepler-172', 'Kepler-327', 'Kepler-301', 'Kepler-338', 'Kepler-275', 'Kepler-244', 'Kepler-245', 'Kepler-215', 'Kepler-217', 'Kepler-54', 'Kepler-326', 'Kepler-238', 'Kepler-224', 'Kepler-256', 'Kepler-228', 'Kepler-254', 'Kepler-257', 'Kepler-267', 'Kepler-292', 'Kepler-271', 'Kepler-272', 'Kepler-282', 'Kepler-336', 'Kepler-339', 'Kepler-357', 'Kepler-332', 'Kepler-350', 'Kepler-341', 'Kepler-431', 'Kepler-138', 'Kepler-445', 'Kepler-770', 'Kepler-1987', 'KOI-7892', 'Kepler-139', 'Kepler-65', 'Kepler-1388', 'Kepler-304', 'Kepler-319', 'Kepler-374', 'Kepler-226', 'Kepler-359', 'Kepler-52', 'Kepler-48', 'Kepler-60', 'Kepler-18', 'Kepler-124', 'Kepler-122', 'Kepler-174', 'Kepler-178', 'Kepler-194', 'Kepler-218', 'Kepler-171', 'Kepler-222', 'Kepler-251', 'Kepler-399', 'Kepler-402', 'Kepler-53', 'Kepler-281', 'Kepler-487', 'Kepler-347', 'Kepler-290', 'KIC 10001893', 'Kepler-253', 'Kepler-372', 'Kepler-331', 'Kepler-363', 'Kepler-351', 'Kepler-310', 'Kepler-616']\n",
      "\n",
      "16 Unique star names in 2 systems:\n",
      "['2MASS J19383260+4603591', 'Kepler-167', 'Kepler-104', 'Kepler-68', 'KOI-94', 'Kepler-1130', 'Kepler-411', 'Kepler-197', 'Kepler-454', 'Kepler-132', 'Kepler-25', 'Kepler-130', 'Kepler-296', 'Kepler-20', 'Kepler-47', 'Kepler-83']\n",
      "\n",
      "1 Unique star names in 3 systems:\n",
      "['Kepler-444']\n"
     ]
    }
   ],
   "source": [
    "# Get unique star names for each DataFrame\n",
    "unique_monostar_names = monostar_systems_df['hostname'].unique().tolist()\n",
    "unique_duostar_names = duostar_systems_df['hostname'].unique().tolist()\n",
    "unique_tristar_names = tristar_systems_df['hostname'].unique().tolist()\n",
    "\n",
    "# Display the unique star names\n",
    "unique_star_names = [unique_monostar_names, unique_duostar_names, unique_tristar_names]\n",
    "\n",
    "for i, names in enumerate(unique_star_names):\n",
    "    print(f\"\\n{len(unique_star_names[i])} Unique star names in {i+1} systems:\")\n",
    "    print(names)\n"
   ]
  },
  {
   "cell_type": "code",
   "execution_count": 85,
   "metadata": {},
   "outputs": [
    {
     "name": "stderr",
     "output_type": "stream",
     "text": [
      "<>:6: SyntaxWarning: invalid escape sequence '\\l'\n",
      "<>:6: SyntaxWarning: invalid escape sequence '\\l'\n",
      "/var/folders/yk/2lp5vmnd6s778_4bh__0mvyc0000gp/T/ipykernel_51278/2237320778.py:6: SyntaxWarning: invalid escape sequence '\\l'\n",
      "  '''\n"
     ]
    }
   ],
   "source": [
    "# Define a function to calculate the gap complexity for a given planetary system\n",
    "from typing import List\n",
    "import numpy as np\n",
    "\n",
    "def gap_complexity(n: int, periods: List[float]) -> float:\n",
    "    ''' \n",
    "    Calculate the gap complexity for a given planetary system.\n",
    "\n",
    "    INPUTS\n",
    "    ------\n",
    "    n : int\n",
    "        Number of planets in the system\n",
    "    periods : List[float]\n",
    "        Array of planet periods in increasing order\n",
    "\n",
    "    OUTPUTS\n",
    "    -------\n",
    "    C : float\n",
    "        Gap complexity of the system\n",
    "    \n",
    "    NOTES\n",
    "    -----\n",
    "    For planet periods, Gilbert & Fabrycky (2020) define gap complexity as:\n",
    "\n",
    "    .. math::\n",
    "\n",
    "        C = -K \\left( \\sum_{i=1}^{n-1} p_i^* \\ln p_i^* \\right) \\left( \\sum_{i=1}^{n-1} \\left(p_i^* - \\frac{1}{n-1}\\right)^2 \\right),\n",
    "\n",
    "    .. math::\n",
    "\n",
    "        p_i^* = \\frac{\\ln(P_{i+1}/P_i)}{\\ln(P_n/P_1)},\n",
    "\n",
    "    where `n` is the number of planets in the system, the ratio of periods for each adjacent planet pair is `P_{i+1}/P_i`, and the outermost and innermost planet periods are `P_n` and `P_1`. `K` is the normalization constant, which varies based on planet multiplicity and is given as `K=1/C_{max}`, where `C_{max}=[0.105, 0.212, 0.291, 0.350, 0.398, 0.437]`, respectively, for each multiplicity from 3- to 8-planet.\n",
    "    '''\n",
    "    \n",
    "    # Calculate K based on stellar multiplicity\n",
    "    C_max = np.array([0.105, 0.212, 0.291, 0.350, 0.398, 0.437])\n",
    "    multiplicity = np.arange(3, 9)\n",
    "    keyed_K = dict(zip(multiplicity, 1.0 / C_max))\n",
    "    K = keyed_K[n]\n",
    "\n",
    "    # Calculate pi_star\n",
    "    pi_stars = np.zeros(n - 1)\n",
    "    for i in range(n - 1):\n",
    "        pi_stars[i] = np.log(periods[i + 1] / periods[i]) / np.log(periods[-1] / periods[0])\n",
    "\n",
    "    # Calculate gap complexity (C)\n",
    "    C = -K * np.sum(pi_stars * np.log(pi_stars)) * np.sum((pi_stars - 1 / (n - 1)) ** 2)  \n",
    "\n",
    "    return C"
   ]
  },
  {
   "cell_type": "markdown",
   "metadata": {},
   "source": []
  },
  {
   "cell_type": "code",
   "execution_count": 86,
   "metadata": {},
   "outputs": [
    {
     "name": "stdout",
     "output_type": "stream",
     "text": [
      "Skipping star Kepler-10 due to mismatch in number of periods and planets.\n",
      "Skipping star KOI-142 due to mismatch in number of periods and planets.\n",
      "Skipping star Kepler-129 due to mismatch in number of periods and planets.\n",
      "Skipping star Kepler-82 due to mismatch in number of periods and planets.\n",
      "Skipping star Kepler-100 due to mismatch in number of periods and planets.\n",
      "Skipping star Kepler-56 due to mismatch in number of periods and planets.\n",
      "Skipping star Kepler-138 due to mismatch in number of periods and planets.\n",
      "Skipping star Kepler-139 due to mismatch in number of periods and planets.\n",
      "Skipping star Kepler-65 due to mismatch in number of periods and planets.\n",
      "Skipping star Kepler-48 due to mismatch in number of periods and planets.\n"
     ]
    },
    {
     "data": {
      "application/vnd.jupyter.widget-view+json": {
       "model_id": "6a491f44dd594473b01abe659c3b5d34",
       "version_major": 2,
       "version_minor": 0
      },
      "text/plain": [
       "DataGrid(auto_fit_params={'area': 'all', 'padding': 30, 'numCols': None}, column_widths={'Star': 200, 'Gap Com…"
      ]
     },
     "metadata": {},
     "output_type": "display_data"
    }
   ],
   "source": [
    "# Initialize a dictionary to store the results\n",
    "gap_complexity_results = []\n",
    "\n",
    "# Calculate gap complexity for each star system\n",
    "for star in unique_monostar_names:\n",
    "    # Extract the periods for the current star system\n",
    "    star_system = monostar_systems_df[monostar_systems_df['hostname'] == star]\n",
    "    periods = star_system['pl_orbper'].values\n",
    "    metallicity = star_system['st_met'].values[0]  # Assuming metallicity is the same for all entries of the same star\n",
    "\n",
    "    # Sort the periods in increasing order\n",
    "    periods = np.sort(periods)\n",
    "    \n",
    "    # Get the number of planets in the system\n",
    "    n = star_system['sy_pnum'].values[0]\n",
    "    \n",
    "    # Check if the number of periods matches the number of planets\n",
    "    if len(periods) != n:\n",
    "        print(f\"Skipping star {star} due to mismatch in number of periods and planets.\")\n",
    "        continue\n",
    "    \n",
    "    # Calculate the gap complexity\n",
    "    C = gap_complexity(n, periods)\n",
    "    \n",
    "    # Store the result\n",
    "    gap_complexity_results.append({'Star': star, 'Gap Complexity': C, 'Metallicity': metallicity})\n",
    "\n",
    "# Convert the results to a DataFrame for better readability\n",
    "monostar_gap_complexity_df = pd.DataFrame(gap_complexity_results)\n",
    "\n",
    "\n",
    "# Define custom column widths\n",
    "column_widths = {\n",
    "    'Star': 200,\n",
    "    'Gap Complexity': 200,\n",
    "    'Metallicity': 200\n",
    "}\n",
    "\n",
    "# Create a DataGrid for the gap complexity results\n",
    "gap_complexity_grid = DataGrid(monostar_gap_complexity_df, editable=False, layout={'height': '400px'}, column_widths=column_widths)\n",
    "\n",
    "# Display the DataGrid\n",
    "display(gap_complexity_grid)"
   ]
  },
  {
   "cell_type": "code",
   "execution_count": 87,
   "metadata": {},
   "outputs": [
    {
     "data": {
      "image/png": "[encoded data removed]",
      "text/plain": [
       "<Figure size 1000x600 with 1 Axes>"
      ]
     },
     "metadata": {},
     "output_type": "display_data"
    }
   ],
   "source": [
    "# Extract the gap complexity values\n",
    "gap_complexity_values = monostar_gap_complexity_df['Gap Complexity']\n",
    "\n",
    "# Create the histogram\n",
    "plt.figure(figsize=(10, 6))\n",
    "plt.hist(gap_complexity_values, bins=20, edgecolor='black')\n",
    "plt.title('Histogram of Gap Complexity')\n",
    "plt.xlabel('Gap Complexity')\n",
    "plt.ylabel('Frequency')\n",
    "plt.grid(True)\n",
    "plt.show()"
   ]
  },
  {
   "cell_type": "code",
   "execution_count": 49,
   "metadata": {},
   "outputs": [
    {
     "name": "stdout",
     "output_type": "stream",
     "text": [
      "         Star  Gap Complexity  Metallicity\n",
      "0  Kepler-444        0.022968        -0.55\n"
     ]
    }
   ],
   "source": [
    "# Initialize a dictionary to store the results\n",
    "gap_complexity_results = []\n",
    "\n",
    "# Extract unique star names for tristar systems\n",
    "unique_tristar_names = tristar_systems_df['hostname'].unique()\n",
    "\n",
    "# Calculate gap complexity for each tristar system\n",
    "for star in unique_tristar_names:\n",
    "    # Extract the periods for the current star system\n",
    "    star_system = tristar_systems_df[tristar_systems_df['hostname'] == star]\n",
    "    periods = star_system['pl_orbper'].values\n",
    "    metallicity = star_system['st_met'].values[0]  # Assuming metallicity is the same for all entries of the same star\n",
    "\n",
    "    # Sort the periods in increasing order\n",
    "    periods = np.sort(periods)\n",
    "    \n",
    "    # Get the number of planets in the system\n",
    "    n = star_system['sy_pnum'].values[0]\n",
    "    \n",
    "    # Check if the number of periods matches the number of planets\n",
    "    if len(periods) != n:\n",
    "        print(f\"Skipping star {star} due to mismatch in number of periods and planets.\")\n",
    "        continue\n",
    "    \n",
    "    # Calculate the gap complexity\n",
    "    C = gap_complexity(n, periods)\n",
    "    \n",
    "    # Store the result\n",
    "    gap_complexity_results.append({'Star': star, 'Gap Complexity': C, 'Metallicity': metallicity})\n",
    "\n",
    "# Convert the results to a DataFrame for better readability\n",
    "tristar_gap_complexity_df = pd.DataFrame(gap_complexity_results)\n",
    "\n",
    "# Display the results\n",
    "print(tristar_gap_complexity_df)"
   ]
  },
  {
   "cell_type": "code",
   "execution_count": null,
   "metadata": {},
   "outputs": [],
   "source": []
  }
 ],
 "metadata": {
  "kernelspec": {
   "display_name": "NEA",
   "language": "python",
   "name": "python3"
  },
  "language_info": {
   "codemirror_mode": {
    "name": "ipython",
    "version": 3
   },
   "file_extension": ".py",
   "mimetype": "text/x-python",
   "name": "python",
   "nbconvert_exporter": "python",
   "pygments_lexer": "ipython3",
   "version": "3.12.3"
  }
 },
 "nbformat": 4,
 "nbformat_minor": 2
}
