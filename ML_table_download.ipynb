{
 "cells": [
  {
   "cell_type": "code",
   "execution_count": 1,
   "metadata": {},
   "outputs": [],
   "source": [
    "import matplotlib.pyplot as plt\n",
    "import numpy as np"
   ]
  },
  {
   "cell_type": "code",
   "execution_count": 2,
   "metadata": {},
   "outputs": [
    {
     "name": "stdout",
     "output_type": "stream",
     "text": [
      "pl_name,st_mass,pl_massj,ml_massratio,ml_sepinsnorp,pl_orbsmax,ml_sepminnorm,ra,dec,glon,glat,sy_dist,ml_radeinang,ml_modelchisq,htmllink\n"
     ]
    }
   ],
   "source": [
    "from astroquery.ipac.nexsci.nasa_exoplanet_archive import NasaExoplanetArchive\n",
    "from astropy.table import Table\n",
    "\n",
    "table_name = 'ML'\n",
    "\n",
    "# Variables  - because it's hard to keep track of the stupid names they have been given\n",
    "ID = ('pl_name', 'ID')  # this is the planet ID not the star ID or event ID\n",
    "                        # e.g., OGLE-2009-BLG-0467L b\n",
    "m1 = ('st_mass', 'm1')  # ML or m1 [solar mass]? It is m1\n",
    "m2 = ('pl_massj', 'm2')  # companion mass [jupiter mass]\n",
    "q = ('ml_massratio', 'q')  # lens body mass ratio (for binaries only)\n",
    "s_au = ('pl_orbsmax', 's_au')  # lens body seperation [au]\n",
    "s = ('ml_sepinsnorp', 's')  # lens body seperation [thetaE]\n",
    "u0 = ('ml_sepminnorm', 'u0')  # closest angular seperations between source and lens \n",
    "RA = ('ra', 'RA')  # in degrees\n",
    "Dec = ('dec', 'Dec')  # in degrees\n",
    "l = ('glon', 'l')  # Galactic longitude (l) is measured with primary direction from the\n",
    "                   # Sun to the center of the galaxy in the galactic plane\n",
    "b = ('glat', 'b')  # Galactic latitude (b) measures the angle of the object above the \n",
    "                   # galactic plane.\n",
    "DL = ('sy_dist', 'DL')  # distance to lens from Sun\n",
    "ref = ('htmllink', 'ref')\n",
    "cb_flag = ('cb_flag', 'binary_host')  # circumbinary flag\n",
    "thetaE = ('ml_radeinang', 'thetaE')  # Einstein angle in radians\n",
    "chi2 = ('ml_modelchisq', 'chi2')  # chi squared\n",
    "\n",
    "# are there multiple entries for the same ID?\n",
    "# i.e., multiple solutions\n",
    "\n",
    "columns = [ID, m1, m2, q, s, s_au, u0, RA, Dec, l, b, DL, thetaE, chi2, ref]\n",
    "columns_string = ''  # initialising\n",
    "\n",
    "for i, variable in enumerate(columns):\n",
    "    if i != 0:  # don't want to start the string with a comma\n",
    "        columns_string += ','  # comma seperated w/o spaces\n",
    "    columns_string += variable[0]\n",
    "\n",
    "print(columns_string)  # to check it's formatted properly"
   ]
  },
  {
   "cell_type": "code",
   "execution_count": null,
   "metadata": {},
   "outputs": [],
   "source": []
  },
  {
   "cell_type": "code",
   "execution_count": 3,
   "metadata": {},
   "outputs": [],
   "source": [
    "# this should force only binary lenses to be returned\n",
    "conditions = 'pl_massj IS NOT NULL AND st_mass IS NOT NULL AND pl_orbsmax IS NOT NULL'\n",
    "\n",
    "exoplanet_data = NasaExoplanetArchive.query_criteria(\n",
    "    table=table_name,\n",
    "    select=columns_string,\n",
    "    format=\"csv\",\n",
    "    where=conditions\n",
    ")\n",
    "\n",
    "# use normal column names\n",
    "for variable in columns:\n",
    "    exoplanet_data.rename_column(variable[0], variable[1])"
   ]
  },
  {
   "cell_type": "code",
   "execution_count": 4,
   "metadata": {},
   "outputs": [],
   "source": [
    "# Display the Table\n",
    "\n",
    "#exoplanet_data.show_in_notebook()\n",
    "#KMT-2020-BLG-0414L c"
   ]
  },
  {
   "cell_type": "code",
   "execution_count": 5,
   "metadata": {},
   "outputs": [],
   "source": [
    "from ipydatagrid import DataGrid\n",
    "import pandas as pd\n",
    "\n",
    "full_table = pd.DataFrame(np.array(exoplanet_data))\n",
    "full_table = DataGrid(full_table, editable=False, layout={'height':'200px'})"
   ]
  },
  {
   "cell_type": "code",
   "execution_count": 6,
   "metadata": {},
   "outputs": [
    {
     "data": {
      "application/vnd.jupyter.widget-view+json": {
       "model_id": "acc21dc6d1d54df8ac68563592b99c1d",
       "version_major": 2,
       "version_minor": 0
      },
      "text/plain": [
       "DataGrid(auto_fit_params={'area': 'all', 'padding': 30, 'numCols': None}, corner_renderer=None, default_render…"
      ]
     },
     "execution_count": 6,
     "metadata": {},
     "output_type": "execute_result"
    }
   ],
   "source": [
    "full_table"
   ]
  },
  {
   "cell_type": "code",
   "execution_count": null,
   "metadata": {},
   "outputs": [],
   "source": []
  }
 ],
 "metadata": {
  "kernelspec": {
   "display_name": "NEA",
   "language": "python",
   "name": "python3"
  },
  "language_info": {
   "codemirror_mode": {
    "name": "ipython",
    "version": 3
   },
   "file_extension": ".py",
   "mimetype": "text/x-python",
   "name": "python",
   "nbconvert_exporter": "python",
   "pygments_lexer": "ipython3",
   "version": "3.12.3"
  }
 },
 "nbformat": 4,
 "nbformat_minor": 2
}
