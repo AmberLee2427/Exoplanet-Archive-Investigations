{
 "cells": [
  {
   "cell_type": "markdown",
   "id": "11fd1d81",
   "metadata": {},
   "source": [
    "David Rice, Amber Malpas, Armaan Goyal<br>\n",
    "Architectures ML Project<br>\n",
    "Manage Tables"
   ]
  },
  {
   "cell_type": "code",
   "execution_count": 35,
   "id": "882f3a75",
   "metadata": {},
   "outputs": [],
   "source": [
    "import re\n",
    "import numpy as np"
   ]
  },
  {
   "cell_type": "code",
   "execution_count": 36,
   "id": "7884c8cf",
   "metadata": {},
   "outputs": [],
   "source": [
    "#Get all the data\n",
    "inf=open('KOIData_Lissauer2023.csv','r')\n",
    "lines=inf.readlines()\n",
    "\n",
    "pltable=[] #List of all values for a planet\n",
    "for line in lines[0:]:\n",
    "    if line==lines[0]:\n",
    "        colname=re.split(',',line) #Sheet column names\n",
    "    else:\n",
    "        div=re.split(',',line)\n",
    "        pltable.append(div)\n",
    "\n",
    "inf.close()"
   ]
  },
  {
   "cell_type": "code",
   "execution_count": 37,
   "id": "1bc0367b",
   "metadata": {},
   "outputs": [],
   "source": [
    "#Combine planets into system data\n",
    "multis=[] #system & planet info for each system with 3+ planets\n",
    "currentsys='x'\n",
    "dumbplanets=[[]]\n",
    "planetdata=['TTVperiod','radius','radius_em','radius_ep','nTT','SNR','MES','chisqwttv']\n",
    "            #planet period, radius, radius minus error, radius plus error, number of transits with transit time measured, \n",
    "            #SNR, multiple event statistic, chi-squared with ttv (descriptions https://arxiv.org/pdf/2311.00238)\n",
    "stardata=['kepmag','rhostar','teff','rstar','mstar','logg','[M/H]']\n",
    "            #Kepler Magniuted, Stellar density, Stellar Mass, Log gravity, metalicity (descriptiosn https://arxiv.org/pdf/2311.00238)\n",
    "for i in range(len(pltable)):\n",
    "    if pltable[i][colname.index('StatusFlag')][0]=='P' and 0<float(pltable[i][colname.index('TTVperiod')])<1000: #Planet candidate in most recent survey and less than 1000 days\n",
    "        if pltable[i][colname.index('KOI')][0:-3]!=currentsys:\n",
    "            if len(dumbplanets[0])>2:\n",
    "                sort_ind=np.argsort(dumbplanets[0]) #sort by period\n",
    "                multis.append([currentsys]+[float(pltable[i-1][colname.index(j)]) for j in stardata]+[np.array(k)[sort_ind] for k in dumbplanets])\n",
    "                dumbplanets=[[float(pltable[i][colname.index(j)])] for j in planetdata]\n",
    "            else:\n",
    "                dumbplanets=[[float(pltable[i][colname.index(j)])] for j in planetdata]\n",
    "            currentsys=pltable[i][colname.index('KOI')][0:-3]\n",
    "        else:\n",
    "            for j in range(len(dumbplanets)):\n",
    "                dumbplanets[j].append(float(pltable[i][colname.index(planetdata[j])]))\n",
    "                \n",
    "newcolumns=['KOI']+stardata+planetdata #save column data"
   ]
  },
  {
   "cell_type": "code",
   "execution_count": 38,
   "id": "c902118d",
   "metadata": {},
   "outputs": [],
   "source": [
    "#Gap Complexity\n",
    "def gapcomp(periods):\n",
    "    cmax=[0.106,0.212,0.291,0.350,0.398,0.437,0.469,0.497]\n",
    "    firstpar=[]\n",
    "    secondpar=[]\n",
    "    for j in range(len(periods)-1):\n",
    "        p_i=np.log(periods[j+1]/periods[j])/np.log(periods[-1]/periods[0])\n",
    "        firstpar.append(p_i*np.log(p_i))\n",
    "        secondpar.append((p_i-(1/(len(periods)-1)))**2)\n",
    "    return (-(1/cmax[len(periods)-3])*np.sum(firstpar)*np.sum(secondpar))\n",
    "\n",
    "#Gini Index\n",
    "def gini(ptemp):\n",
    "    prats=[]\n",
    "    for j in range(len(ptemp)-1):\n",
    "        prats.append(ptemp[j+1]/ptemp[j])\n",
    "    sums1=[]\n",
    "    for j in prats:\n",
    "        sums2=[]\n",
    "        for k in prats:\n",
    "            sums2.append(np.abs(j-k))\n",
    "        sums1.append(np.sum(sums2))\n",
    "    return (1/(2*len(prats)**2*np.mean(prats))*len(prats)/(len(prats)-1)*np.sum(sums1))\n",
    "\n",
    "#Intra-system dispersion Weiss 2022 Equation 3\n",
    "def qdis(ptemp):\n",
    "    prats=[]\n",
    "    for j in range(len(ptemp)-1):\n",
    "        prats.append(ptemp[j+1]/ptemp[j])\n",
    "    sums=[]\n",
    "    for j in prats:\n",
    "        sums.append(np.log10(j/np.mean(prats))**2)\n",
    "    return np.sqrt(1/(len(ptemp)-1)*np.sum(sums))    \n",
    "\n",
    "\n",
    "#dp/p_i\n",
    "def dpp(ptemp):\n",
    "    dpptemp=[]\n",
    "    for j in range(len(ptemp)-1):\n",
    "        dpptemp.append((ptemp[j+1]-ptemp[j])/ptemp[j])\n",
    "    return dpptemp, np.mean(dpptemp)\n",
    "        \n",
    "#zeta\n",
    "def zeta(ptemp):\n",
    "    zetatemp=[]\n",
    "    for j in range(len(ptemp)-1):\n",
    "        prat=ptemp[j+1]/ptemp[j]\n",
    "        zetatemp.append(np.abs(3*(1/(prat-1)-round(1/(prat-1)))))\n",
    "    return zetatemp, np.mean(zetatemp)"
   ]
  },
  {
   "cell_type": "code",
   "execution_count": 39,
   "id": "340661b9",
   "metadata": {},
   "outputs": [],
   "source": [
    "#Add additional period data\n",
    "newcols=newcolumns+['n','minper','maxper','meanper','perrange','lograngep','normstdp','dpp','meandpp','gapc','gini','qdisp','zeta','meanzeta']\n",
    "for i in range(len(multis)):\n",
    "    periods=multis[i][newcolumns.index('TTVperiod')]\n",
    "    radiis=multis[i][newcolumns.index('radius')]\n",
    "    multis[i].append(len(multis[i][newcolumns.index('TTVperiod')])) #number of planets\n",
    "    multis[i].append(periods[0]) #Outer period\n",
    "    multis[i].append(periods[-1]) #inner period\n",
    "    multis[i].append(np.mean(periods)) #mean period (never seen this used but threw it in there)\n",
    "    multis[i].append(periods[-1]-periods[0]) #period range\n",
    "    multis[i].append(np.log10(periods[-1])-np.log10(periods[0])) #range in log period\n",
    "    multis[i].append(np.std(periods)/np.mean(periods)) #normalzied standard deviation\n",
    "    multis[i].append(np.array(dpp(periods)[0])) #dp/p_inner array\n",
    "    multis[i].append(dpp(periods)[1]) #mean dp/p_inner\n",
    "    multis[i].append(gapcomp(periods)) #gap complexity\n",
    "    multis[i].append(gini(periods)) #Gini Index\n",
    "    multis[i].append(qdis(periods)) #intra-system dispersion, q\n",
    "    multis[i].append(np.array(zeta(periods)[0])) #eta array\n",
    "    multis[i].append(zeta(periods)[1]) #mean zeta"
   ]
  },
  {
   "cell_type": "code",
   "execution_count": 40,
   "id": "c2a94129",
   "metadata": {},
   "outputs": [],
   "source": [
    "#intrasystem dispersion in log-radius\n",
    "def qdisprad(rtemp):\n",
    "    sums=[]\n",
    "    for j in rtemp:\n",
    "        sums.append(np.log10(j/np.mean(rtemp))**2)\n",
    "    return np.sqrt(1/(len(rtemp))*np.sum(sums))    \n",
    "\n",
    "#count planet types\n",
    "def typecounter(rtemp):\n",
    "    types=[0,0,0,0] #subearths, super-earths, sub-neptunes, neptune+\n",
    "    for i in rtemp:\n",
    "        if i<=1:\n",
    "            types[0]=types[0]+1\n",
    "        elif i<1.9:  #Using 1.9 Earth-radii for radius valley\n",
    "            types[1]=types[1]+1 \n",
    "        elif i<4: #4 for neptune radius approximately\n",
    "            types[2]=types[2]+1\n",
    "        else:\n",
    "            types[3]=types[3]+1\n",
    "    return types\n",
    "\n",
    "#Ratio of adjacent radii \n",
    "def rrat(rtemp):\n",
    "    rrattemp=[]\n",
    "    for i in range(len(rtemp)-1):\n",
    "        rrattemp.append(rtemp[i+1]/rtemp[i])\n",
    "    return rrattemp, np.mean(rrattemp)"
   ]
  },
  {
   "cell_type": "code",
   "execution_count": 41,
   "id": "ae2ad0b5",
   "metadata": {},
   "outputs": [],
   "source": [
    "##Add additional radius data\n",
    "newcols=newcols+['minrad','maxrad','meanrad','radrange','stdr','normstdr','qdispr','rrat','meanrrat','subearth','supearth','subnep','nepplus',]\n",
    "\n",
    "for i in range(len(multis)):\n",
    "    radiis=multis[i][newcolumns.index('radius')]\n",
    "    multis[i].append(min(radiis)) #min radius\n",
    "    multis[i].append(max(radiis))  #max radius\n",
    "    multis[i].append(np.mean(radiis)) #mean radius\n",
    "    multis[i].append(max(radiis)-min(radiis)) #range radius\n",
    "    multis[i].append(np.std(radiis)) #radius standard deviation \n",
    "    multis[i].append(np.std(radiis)/np.mean(radiis)) #normalized standard deviation\n",
    "    multis[i].append(qdisprad(radiis)) #dispersion of log radius ratio\n",
    "    multis[i].append(np.array(rrat(radiis)[0])) #ratio of adjacent radius outer/inner\n",
    "    multis[i].append(rrat(radiis)[1])\n",
    "    multis[i]=multis[i]+typecounter(radiis)"
   ]
  },
  {
   "cell_type": "code",
   "execution_count": 42,
   "id": "838225f2",
   "metadata": {},
   "outputs": [],
   "source": [
    "#Write to file\n",
    "outf=open('threeplanetsystemsinfo.csv','w')\n",
    "for i in newcols:\n",
    "    outf.write(i+',')\n",
    "outf.write('\\n')\n",
    "for i in multis:\n",
    "    for j in i:\n",
    "        if isinstance(j, np.ndarray):\n",
    "            outf.write(np.array2string(j, max_line_width=1000)+',')\n",
    "        else:\n",
    "            outf.write(str(j)+',')\n",
    "    outf.write('\\n')\n",
    "outf.close()"
   ]
  },
  {
   "cell_type": "code",
   "execution_count": 9,
   "id": "2d0ee397",
   "metadata": {},
   "outputs": [
    {
     "name": "stdout",
     "output_type": "stream",
     "text": [
      "0.08264779296797711\n",
      "0.12757698141193483\n",
      "[2.5568181818181817, 1.6222222222222222, 1.8821917808219177]\n",
      "2.0204107282874406\n",
      "0.04090643145516843\n",
      "-1.0827687393656946\n"
     ]
    }
   ],
   "source": [
    "solar=[88,225,365,687]\n",
    "print(qdis(solar))\n",
    "print(gapcomp(solar))\n",
    "solarprat=[]\n",
    "for i in range(3):\n",
    "    solarprat.append(solar[i+1]/solar[i])\n",
    "print(solarprat)\n",
    "print(np.mean(solarprat))\n",
    "print(qdis(solar)/np.mean(solarprat))\n",
    "print(np.log10(qdis(solar)))"
   ]
  },
  {
   "cell_type": "code",
   "execution_count": 10,
   "id": "bab1e38c",
   "metadata": {},
   "outputs": [
    {
     "name": "stdout",
     "output_type": "stream",
     "text": [
      "0.21280569434521746\n",
      "0.4005081512395987\n",
      "[1.930957683741648, 1.7053056516724336, 4.940818397024011]\n"
     ]
    }
   ],
   "source": [
    "#Kepler 286\n",
    "k286=[1.796,3.468,5.914,29.22]\n",
    "print(qdis(k286))\n",
    "print(gapcomp(k286))\n",
    "prat=[]\n",
    "for i in range(3):\n",
    "    prat.append(k286[i+1]/k286[i])\n",
    "print(prat)"
   ]
  },
  {
   "cell_type": "code",
   "execution_count": 21,
   "id": "b18f6fa7",
   "metadata": {},
   "outputs": [
    {
     "data": {
      "text/plain": [
       "['41',\n",
       " 11.197,\n",
       " 0.43884,\n",
       " 5857.0,\n",
       " 1.53,\n",
       " 1.1,\n",
       " 4.103,\n",
       " 0.098,\n",
       " array([ 6.88707653, 12.81590514, 35.333574  ]),\n",
       " array([1.27 , 2.269, 1.528]),\n",
       " array([-0.054, -0.068, -0.064]),\n",
       " array([0.081, 0.128, 0.106]),\n",
       " array([198., 101.,  39.]),\n",
       " array([ 38.2, 106.7,  28.8]),\n",
       " array([27.5, 68.6, 18. ]),\n",
       " array([6359.2, 5592.3, 1934.7]),\n",
       " 3,\n",
       " 6.88707653,\n",
       " 35.333574,\n",
       " 18.345518556666665,\n",
       " 28.446497469999997,\n",
       " 0.710152659710835,\n",
       " 0.6679449216830274,\n",
       " array([0.86086289, 1.75700964]),\n",
       " 1.3089362647074716,\n",
       " 0.18100667823453048,\n",
       " 0.1940605207987439,\n",
       " 0.08576797635833895,\n",
       " 0.8887144900456984,\n",
       " 1.27,\n",
       " 2.269,\n",
       " 1.689,\n",
       " 0.9990000000000001,\n",
       " 0.42343122227818775,\n",
       " 0.25069936191722186,\n",
       " 0.10592787003304842,\n",
       " 0,\n",
       " 2,\n",
       " 1,\n",
       " 0]"
      ]
     },
     "execution_count": 21,
     "metadata": {},
     "output_type": "execute_result"
    }
   ],
   "source": [
    "multis[0]"
   ]
  },
  {
   "cell_type": "code",
   "execution_count": null,
   "id": "c900cad2",
   "metadata": {},
   "outputs": [],
   "source": []
  }
 ],
 "metadata": {
  "kernelspec": {
   "display_name": "Python 3 (ipykernel)",
   "language": "python",
   "name": "python3"
  },
  "language_info": {
   "codemirror_mode": {
    "name": "ipython",
    "version": 3
   },
   "file_extension": ".py",
   "mimetype": "text/x-python",
   "name": "python",
   "nbconvert_exporter": "python",
   "pygments_lexer": "ipython3",
   "version": "3.9.13"
  }
 },
 "nbformat": 4,
 "nbformat_minor": 5
}
